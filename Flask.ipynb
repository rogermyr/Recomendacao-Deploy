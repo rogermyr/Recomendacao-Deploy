{
 "cells": [
  {
   "cell_type": "code",
   "execution_count": 111,
   "metadata": {},
   "outputs": [
    {
     "name": "stdout",
     "output_type": "stream",
     "text": [
      " * Serving Flask app \"__main__\" (lazy loading)\n",
      " * Environment: production\n",
      "   WARNING: This is a development server. Do not use it in a production deployment.\n",
      "   Use a production WSGI server instead.\n",
      " * Debug mode: off\n"
     ]
    },
    {
     "name": "stderr",
     "output_type": "stream",
     "text": [
      " * Running on http://127.0.0.1:5000/ (Press CTRL+C to quit)\n",
      "127.0.0.1 - - [11/Jul/2020 01:22:32] \"\u001b[37mGET / HTTP/1.1\u001b[0m\" 200 -\n",
      "127.0.0.1 - - [11/Jul/2020 01:22:46] \"\u001b[37mPOST / HTTP/1.1\u001b[0m\" 200 -\n"
     ]
    }
   ],
   "source": [
    "import flask\n",
    "import pickle\n",
    "import pandas as pd\n",
    "import numpy as np\n",
    "from collections import defaultdict\n",
    "from surprise import Dataset\n",
    "from surprise import Reader\n",
    "\n",
    "app = flask.Flask(__name__)\n",
    "\n",
    "# Carregando dataset contendo as recomendações des filmes\n",
    "arquivo = \"./dataset/predictions.csv\"\n",
    "predictions = pd.read_csv(arquivo)\n",
    "\n",
    "# Carregando dataset contendo os filmes\n",
    "arquivo2 = \"./dataset/movies.csv\"\n",
    "movies = pd.read_csv(arquivo2)\n",
    "\n",
    "# Carregando dataset contendo a capa dos filmes\n",
    "arquivo2 = \"./dataset/movie_poster.csv\"\n",
    "poster = pd.read_csv(arquivo2)\n",
    "\n",
    "# Mesclando os 2 datasets em um único, associado pela variável movieId\n",
    "data = predictions.merge(movies, on='title')\n",
    "data = data.merge(poster, on='movieId')\n",
    "\n",
    "data = data.drop(['genres', 'movieId'], axis = 1)\n",
    "\n",
    "@app.route('/', methods=['GET', 'POST'])\n",
    "def index():\n",
    "    if flask.request.method == 'GET':\n",
    "        return(flask.render_template('index.html'))\n",
    "    \n",
    "    if flask.request.method == 'POST':\n",
    "        user = int(flask.request.form['userId'])\n",
    "        results = data[data['userId']==user]\n",
    "        titles = []\n",
    "        images = []\n",
    "        for i in range(len(results)):\n",
    "            titles.append(results.iloc[i][1])\n",
    "            images.append(results.iloc[i][2])\n",
    "\n",
    "        return flask.render_template('positive.html', movie_names=titles, images_url=images, search_name=user)\n",
    "\n",
    "@app.route('/sobre', methods=['GET', 'POST'])\n",
    "def sobre():\n",
    "    if flask.request.method == 'GET':\n",
    "        return(flask.render_template('sobre.html'))\n",
    "    \n",
    "\n",
    "app.run()"
   ]
  },
  {
   "cell_type": "code",
   "execution_count": null,
   "metadata": {},
   "outputs": [],
   "source": [
    "#uid = 1\n",
    "#titles = []\n",
    "#for i in range(len(movies[movies['userId']==uid])):\n",
    "#    titles.append(movies.iloc[i][1])\n",
    "user = 66\n",
    "results = movies[movies['userId']==user]\n",
    "results"
   ]
  },
  {
   "cell_type": "code",
   "execution_count": null,
   "metadata": {},
   "outputs": [],
   "source": [
    "titles = []\n",
    "for i in range(len(results)):\n",
    "    titles.append(results.iloc[i][1])"
   ]
  },
  {
   "cell_type": "code",
   "execution_count": null,
   "metadata": {},
   "outputs": [],
   "source": [
    "titles"
   ]
  },
  {
   "cell_type": "code",
   "execution_count": null,
   "metadata": {},
   "outputs": [],
   "source": [
    "titles[0]"
   ]
  },
  {
   "cell_type": "code",
   "execution_count": null,
   "metadata": {},
   "outputs": [],
   "source": [
    "# Carregando dataset contendo a capa dos filmes\n",
    "arquivo2 = \"./dataset/movies.csv\"\n",
    "movies = pd.read_csv(arquivo2)\n",
    "\n",
    "# Carregando dataset contendo a capa dos filmes\n",
    "arquivo2 = \"./dataset/movie_poster.csv\"\n",
    "poster = pd.read_csv(arquivo2)\n",
    "\n",
    "# Mesclando os 2 datasets em um único, associado pela variável movieId\n",
    "data = predictions.merge(movies, on='title')\n",
    "data = data.merge(poster, on='movieId')\n",
    "\n",
    "data = data.drop(['genres', 'movieId'], axis = 1)\n"
   ]
  },
  {
   "cell_type": "code",
   "execution_count": null,
   "metadata": {},
   "outputs": [],
   "source": [
    "data"
   ]
  },
  {
   "cell_type": "code",
   "execution_count": null,
   "metadata": {},
   "outputs": [],
   "source": [
    "user = 55\n",
    "results = data[data['userId']==user]\n",
    "titles = []\n",
    "images = []\n",
    "for i in range(len(results)):\n",
    "    titles.append(results.iloc[i][1])\n",
    "    images.append(results.iloc[i][2])"
   ]
  },
  {
   "cell_type": "code",
   "execution_count": null,
   "metadata": {},
   "outputs": [],
   "source": [
    "titles"
   ]
  },
  {
   "cell_type": "code",
   "execution_count": 112,
   "metadata": {},
   "outputs": [
    {
     "name": "stdout",
     "output_type": "stream",
     "text": [
      "C:\\FCD\\Projetos\\Recomendacao\n"
     ]
    }
   ],
   "source": [
    "import os\n",
    "print(os.getcwd())"
   ]
  },
  {
   "cell_type": "code",
   "execution_count": null,
   "metadata": {},
   "outputs": [],
   "source": []
  }
 ],
 "metadata": {
  "kernelspec": {
   "display_name": "Python 3",
   "language": "python",
   "name": "python3"
  },
  "language_info": {
   "codemirror_mode": {
    "name": "ipython",
    "version": 3
   },
   "file_extension": ".py",
   "mimetype": "text/x-python",
   "name": "python",
   "nbconvert_exporter": "python",
   "pygments_lexer": "ipython3",
   "version": "3.7.4"
  }
 },
 "nbformat": 4,
 "nbformat_minor": 4
}
