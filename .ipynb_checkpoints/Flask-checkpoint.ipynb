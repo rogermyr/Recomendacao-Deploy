{
 "cells": [
  {
   "cell_type": "code",
   "execution_count": null,
   "metadata": {},
   "outputs": [
    {
     "name": "stdout",
     "output_type": "stream",
     "text": [
      " * Serving Flask app \"__main__\" (lazy loading)\n",
      " * Environment: production\n",
      "   WARNING: This is a development server. Do not use it in a production deployment.\n",
      "   Use a production WSGI server instead.\n",
      " * Debug mode: off\n"
     ]
    },
    {
     "name": "stderr",
     "output_type": "stream",
     "text": [
      " * Running on http://127.0.0.1:5000/ (Press CTRL+C to quit)\n",
      "127.0.0.1 - - [09/Jul/2020 16:34:45] \"\u001b[37mGET / HTTP/1.1\u001b[0m\" 200 -\n"
     ]
    }
   ],
   "source": [
    "import flask\n",
    "import pickle\n",
    "import pandas as pd\n",
    "import numpy as np\n",
    "from collections import defaultdict\n",
    "from surprise import Dataset\n",
    "from surprise import Reader\n",
    "\n",
    "app = Flask(__name__)\n",
    "model = pickle.load(open('model.pkl', 'rb'))\n",
    "\n",
    "# Carregando dataset contendo os títulos dos filmes\n",
    "arquivo = \"./dataset/movies.csv\"\n",
    "movies = pd.read_csv(arquivo)\n",
    "# Carregando dataset contendo a avaliação dos filmes\n",
    "arquivo2 = \"./dataset/ratings.csv\"\n",
    "ratings = pd.read_csv(arquivo2)\n",
    "\n",
    "# Mesclando os 2 datasets em um único, associado pela variável movieId\n",
    "data_ = ratings.merge(movies, on='movieId')\n",
    "data_ = data_.drop('timestamp', axis = 1)\n",
    "\n",
    "def get_top_n(predictions, n=10):\n",
    "    '''Retorna as n maiores recomendações para cada usuário de um conjunto de predições.\n",
    "\n",
    "    Argumentos:\n",
    "        predictions(lista de objetos de Predição): A lista das predições, retornado pelo \n",
    "        método de teste do algoritmo.\n",
    "        n(int): O número de recomendações para cada usuário. O padrão é 10.\n",
    "\n",
    "    Retorna:\n",
    "        Um dicionário onde as chaves são os usuários (raw) e os valores são listas de tuplas:\n",
    "        [(raw item id, rating estimation), ...] do tamanho n.\n",
    "    '''\n",
    "\n",
    "    # Primeiro, mapeie as predições de cada usuário\n",
    "    top_n = defaultdict(list)\n",
    "    for uid, iid, true_r, est, _ in predictions:\n",
    "        top_n[uid].append((iid, est))\n",
    "\n",
    "    # Então ordene as predições para cada usuário e obtenha as k maiores.\n",
    "    for uid, user_ratings in top_n.items():\n",
    "        user_ratings.sort(key=lambda x: x[1], reverse=True)\n",
    "        top_n[uid] = user_ratings[:n]\n",
    "\n",
    "    return top_n\n",
    "\n",
    "# Calculando as previsões com o modelo já treinado anteriormente\n",
    "reader = Reader()\n",
    "data = Dataset.load_from_df(data_[['userId', 'title', 'rating']], reader)\n",
    "trainset = data.build_full_trainset()\n",
    "testset = trainset.build_anti_testset()\n",
    "predictions = model.test(testset)\n",
    "\n",
    "top_n = get_top_n(predictions, n=20)\n",
    "\n",
    "# Função para calcular as predições de um usuário \n",
    "def recommended(userID, n=10):\n",
    "    for uid, user_ratings in top_n.items():\n",
    "        if uid == userID:\n",
    "            print(uid, [iid for (iid, _) in user_ratings])\n",
    "\n",
    "\n",
    "@app.route('/', methods=['GET', 'POST'])\n",
    "def index():\n",
    "    if flask.request.method == 'GET':\n",
    "        return(flask.render_template('index.html'))\n",
    "    \n",
    "    if flask.request.method == 'POST':\n",
    "        uid = flask.request.form['userId']    \n",
    "        recom = get_recommendations(uid)\n",
    "        titles = []\n",
    "        images = []\n",
    "        for i in range(len(recom)):\n",
    "            titles.append(recom.iloc[i][0])\n",
    "            images.append(recom.iloc[i][1])\n",
    "\n",
    "        return flask.render_template('positive.html',movie_names=names,movie_date=dates,search_name=m_name)\n",
    "\n",
    "app.run()"
   ]
  },
  {
   "cell_type": "code",
   "execution_count": null,
   "metadata": {},
   "outputs": [],
   "source": []
  },
  {
   "cell_type": "code",
   "execution_count": null,
   "metadata": {},
   "outputs": [],
   "source": []
  },
  {
   "cell_type": "code",
   "execution_count": null,
   "metadata": {},
   "outputs": [],
   "source": []
  }
 ],
 "metadata": {
  "kernelspec": {
   "display_name": "Python 3",
   "language": "python",
   "name": "python3"
  },
  "language_info": {
   "codemirror_mode": {
    "name": "ipython",
    "version": 3
   },
   "file_extension": ".py",
   "mimetype": "text/x-python",
   "name": "python",
   "nbconvert_exporter": "python",
   "pygments_lexer": "ipython3",
   "version": "3.7.4"
  }
 },
 "nbformat": 4,
 "nbformat_minor": 4
}
